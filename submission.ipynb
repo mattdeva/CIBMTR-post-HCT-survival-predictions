{
 "cells": [
  {
   "cell_type": "markdown",
   "id": "04c37d6a",
   "metadata": {
    "papermill": {
     "duration": 0.006166,
     "end_time": "2025-03-04T02:02:07.920614",
     "exception": false,
     "start_time": "2025-03-04T02:02:07.914448",
     "status": "completed"
    },
    "tags": []
   },
   "source": [
    "# Setup and Load Data"
   ]
  },
  {
   "cell_type": "code",
   "execution_count": 1,
   "id": "a4276123",
   "metadata": {
    "execution": {
     "iopub.execute_input": "2025-03-04T02:02:07.933307Z",
     "iopub.status.busy": "2025-03-04T02:02:07.933009Z",
     "iopub.status.idle": "2025-03-04T02:02:30.669579Z",
     "shell.execute_reply": "2025-03-04T02:02:30.668359Z"
    },
    "papermill": {
     "duration": 22.746095,
     "end_time": "2025-03-04T02:02:30.672068",
     "exception": false,
     "start_time": "2025-03-04T02:02:07.925973",
     "status": "completed"
    },
    "tags": []
   },
   "outputs": [],
   "source": [
    "%%capture\n",
    "\n",
    "# Installations\n",
    "!pip install /kaggle/input/pip-install-lifelines/autograd-1.7.0-py3-none-any.whl\n",
    "!pip install /kaggle/input/pip-install-lifelines/autograd-gamma-0.5.0.tar.gz\n",
    "!pip install /kaggle/input/pip-install-lifelines/interface_meta-1.3.0-py3-none-any.whl\n",
    "!pip install /kaggle/input/pip-install-lifelines/formulaic-1.0.2-py3-none-any.whl\n",
    "!pip install /kaggle/input/pip-install-lifelines/lifelines-0.30.0-py3-none-any.whl"
   ]
  },
  {
   "cell_type": "code",
   "execution_count": 2,
   "id": "3fef612b",
   "metadata": {
    "execution": {
     "iopub.execute_input": "2025-03-04T02:02:30.684595Z",
     "iopub.status.busy": "2025-03-04T02:02:30.684263Z",
     "iopub.status.idle": "2025-03-04T02:02:34.910145Z",
     "shell.execute_reply": "2025-03-04T02:02:34.909260Z"
    },
    "papermill": {
     "duration": 4.234121,
     "end_time": "2025-03-04T02:02:34.911738",
     "exception": false,
     "start_time": "2025-03-04T02:02:30.677617",
     "status": "completed"
    },
    "tags": []
   },
   "outputs": [],
   "source": [
    "import pandas as pd\n",
    "import numpy as np\n",
    "import math\n",
    "from matplotlib import pyplot as plt\n",
    "\n",
    "from lifelines import KaplanMeierFitter\n",
    "from lifelines.utils import concordance_index\n",
    "\n",
    "from sklearn.preprocessing import OrdinalEncoder\n",
    "from sklearn.impute import KNNImputer\n",
    "from sklearn.cluster import KMeans\n",
    "from sklearn.preprocessing import MinMaxScaler\n",
    "\n",
    "import warnings\n",
    "warnings.filterwarnings('ignore')\n",
    "\n",
    "def wgt_gradient(t, cap, g):\n",
    "    return 1 if t<=cap else math.exp(-g * (t - cap))\n",
    "\n",
    "# def get_target(df, fitter, time_col='efs_time', event_col='efs', **kwargs):\n",
    "#     ''' create target val '''\n",
    "#     fitter.fit(df[time_col], df[event_col], **kwargs)\n",
    "#     return fitter.survival_function_at_times(df[time_col]).values\n",
    "\n",
    "    numerical_df = df[numerical_variables]\n",
    "    categorical_df = df[categorical_variables]\n",
    "\n",
    "    # not my fav...\n",
    "    if fit:\n",
    "        tmp_tf_categorical_df = pd.DataFrame(encoder.fit_transform(categorical_df), columns=categorical_df.columns)\n",
    "    else:\n",
    "        tmp_tf_categorical_df = pd.DataFrame(encoder.transform(categorical_df), columns=categorical_df.columns)\n",
    "\n",
    "def mode_fn(x):\n",
    "    ''' function to get mode '''\n",
    "    return x.mode().iloc[0] if not x.mode().empty else None\n",
    "    \n",
    "def get_simple_imputations(df:pd.DataFrame, categorical_variables:list[str], numerical_variables:list[str]) -> pd.DataFrame:\n",
    "    '''\n",
    "    perform basic imputations on dataset \n",
    "    '''\n",
    "    feng_df = df.copy(deep=True)\n",
    "    eng_cols = []\n",
    "    ## Categorical transformations\n",
    "        # imputation flll as mode of col grouped by race_group\n",
    "    for categorical_variable in categorical_variables:\n",
    "        eng_col = f'{categorical_variable}_cModeGrpFill'\n",
    "        feng_df[eng_col] = feng_df[categorical_variable].fillna(feng_df.groupby('race_group')[categorical_variable].transform(mode_fn))\n",
    "        eng_cols.append(eng_col)\n",
    "\n",
    "    ## Numerical transformations\n",
    "        # imputation fill as mode of col grouped by race_group\n",
    "    for numerical_variable in numerical_variables:\n",
    "        eng_col = f'{numerical_variable}_nModeGrpFill'\n",
    "        feng_df[eng_col] = feng_df[numerical_variable].fillna(feng_df.groupby('race_group')[numerical_variable].transform(mode_fn))\n",
    "        eng_cols.append(eng_col)\n",
    "\n",
    "    return feng_df[eng_cols]\n",
    "\n",
    "\n",
    "def get_model_imputation(\n",
    "    df:pd.DataFrame, \n",
    "    categorical_variables:list[str], \n",
    "    numerical_variables:list[str], \n",
    "    encoder, \n",
    "    imputer,\n",
    "    fit:bool=False\n",
    ") -> pd.DataFrame:\n",
    "\n",
    "    numerical_df = df[numerical_variables]\n",
    "    categorical_df = df[categorical_variables]\n",
    "\n",
    "    # not my fav...\n",
    "    if fit:\n",
    "        tmp_tf_categorical_df = pd.DataFrame(encoder.fit_transform(categorical_df), columns=categorical_df.columns)\n",
    "    else:\n",
    "        tmp_tf_categorical_df = pd.DataFrame(encoder.transform(categorical_df), columns=categorical_df.columns)\n",
    "    \n",
    "    data = pd.concat([numerical_df, tmp_tf_categorical_df], axis=1)\n",
    "    \n",
    "    # again, not my fav........\n",
    "    if fit:\n",
    "        tf_data = imputer.fit_transform(data)\n",
    "    else:\n",
    "        tf_data = imputer.transform(data)\n",
    "\n",
    "    tf_data_df = pd.DataFrame(tf_data, columns=data.columns)\n",
    "\n",
    "    tf_categorical_df = pd.DataFrame(\n",
    "        encoder.inverse_transform(tf_data_df[categorical_variables]), columns=categorical_df.columns\n",
    "    )\n",
    "    tf_numerical_df = tf_data_df[numerical_df.columns]\n",
    "    \n",
    "    tf_categorical_df.columns = [f'{c}_NNFill' for c in tf_categorical_df]\n",
    "    tf_numerical_df.columns = [f'{c}_NNFill' for c in tf_numerical_df]\n",
    "\n",
    "    return pd.concat([tf_categorical_df, tf_numerical_df], axis=1)\n",
    "\n",
    "def apply_kmeans(train_df, test_df, n_clusters, cat_vars, num_vars, **kwargs):\n",
    "\n",
    "    combined_data = pd.concat([train_df, test_df], keys=['train', 'test'])\n",
    "\n",
    "    combined_data = pd.concat(\n",
    "        [\n",
    "            pd.get_dummies(combined_data[cat_vars]),\n",
    "            combined_data[num_vars]\n",
    "        ],\n",
    "        axis=1\n",
    "    )\n",
    "\n",
    "    train_data = combined_data.xs('train')\n",
    "    test_data = combined_data.xs('test')\n",
    "    \n",
    "    # KMeans doesn't work with blanks.. prob could do this in the concat above but its fine\n",
    "    for var in num_vars:\n",
    "        for df in [train_data, test_data]:\n",
    "            df[var] = df[var].fillna(df[var].mean())\n",
    "\n",
    "    cluster = KMeans(n_clusters=n_clusters, **kwargs).fit(train_data)\n",
    "\n",
    "    train_pred = cluster.predict(train_data)\n",
    "    test_pred = cluster.predict(test_data)\n",
    "        \n",
    "    return train_pred, test_pred\n",
    "\n",
    "def create_yesno_group_map(var):\n",
    "    ''' create tuple for yes,no group var for variables with Yes, No, Not done levels '''\n",
    "    return (\n",
    "        var,\n",
    "        'yes,no',\n",
    "        {'No':'No', 'Not done':'No', 'Yes':'Yes'},\n",
    "        'No'\n",
    "    )\n",
    "\n",
    "def stack_imputations(raw_df, tf_df, suffix:str, train:bool, train_only_cols=None):\n",
    "\n",
    "    train_only_cols = [] if train_only_cols is None else train_only_cols\n",
    "    \n",
    "    n = len(raw_df) // len(tf_df)\n",
    "    og_raw_df = raw_df.iloc[:len(raw_df) //n]\n",
    "    tmp_df = pd.concat([og_raw_df.ID, tf_df], axis=1)\n",
    "\n",
    "    if train:\n",
    "        tmp_df = pd.concat(\n",
    "            [tmp_df,og_raw_df[train_only_cols]],\n",
    "            axis=1\n",
    "        )\n",
    "            \n",
    "    tmp_df.columns = ['_'.join(c.split('_')[:-1]) if suffix in c else c for c in tmp_df.columns]\n",
    "\n",
    "    if train:\n",
    "        col_order = list(raw_df.columns)\n",
    "    else:\n",
    "        col_order = [c for c in raw_df if c not in train_only_cols]\n",
    "    \n",
    "    tmp_df = tmp_df[col_order]\n",
    "    return pd.concat([raw_df, tmp_df])\n",
    "\n",
    "def avg_predictions(predictions, n_stacks):\n",
    "    ''' add the first half of items to the second half of items '''\n",
    "    if len(predictions) % n_stacks != 0:\n",
    "        raise ValueError(\"predictions should be even\")\n",
    "    mid = len(predictions) // n_stacks\n",
    "    return [(predictions[i] + predictions[mid + i])/n_stacks for i in range(mid)]\n",
    "\n",
    "def sum_predictions(predictions, n_stacks):\n",
    "    ''' add the first half of items to the second half of items '''\n",
    "    if len(predictions) % n_stacks != 0:\n",
    "        raise ValueError(\"predictions should be even\")\n",
    "    mid = len(predictions) // n_stacks\n",
    "    return [predictions[i] + predictions[mid + i] for i in range(mid)]\n",
    "\n",
    "def score(solution: pd.DataFrame, submission: pd.DataFrame, row_id_column_name: str) -> float:\n",
    "    \"\"\"\n",
    "    >>> import pandas as pd\n",
    "    >>> row_id_column_name = \"id\"\n",
    "    >>> y_pred = {'prediction': {0: 1.0, 1: 0.0, 2: 1.0}}\n",
    "    >>> y_pred = pd.DataFrame(y_pred)\n",
    "    >>> y_pred.insert(0, row_id_column_name, range(len(y_pred)))\n",
    "    >>> y_true = { 'efs': {0: 1.0, 1: 0.0, 2: 0.0}, 'efs_time': {0: 25.1234,1: 250.1234,2: 2500.1234}, 'race_group': {0: 'race_group_1', 1: 'race_group_1', 2: 'race_group_1'}}\n",
    "    >>> y_true = pd.DataFrame(y_true)\n",
    "    >>> y_true.insert(0, row_id_column_name, range(len(y_true)))\n",
    "    >>> score(y_true.copy(), y_pred.copy(), row_id_column_name)\n",
    "    0.75\n",
    "    \"\"\"\n",
    "    \n",
    "    del solution[row_id_column_name]\n",
    "    del submission[row_id_column_name]\n",
    "\n",
    "    event_label = 'efs'\n",
    "    interval_label = 'efs_time'\n",
    "    prediction_label = 'prediction'\n",
    "    for col in submission.columns:\n",
    "        if not pd.api.types.is_numeric_dtype(submission[col]):\n",
    "            raise ValueError(f'Submission column {col} must be a number')\n",
    "    # Merging solution and submission dfs on ID\n",
    "    merged_df = pd.concat([solution, submission], axis=1)\n",
    "    merged_df.reset_index(inplace=True)\n",
    "    merged_df_race_dict = dict(merged_df.groupby(['race_group']).groups)\n",
    "    metric_list = []\n",
    "    for race in merged_df_race_dict.keys():\n",
    "        # Retrieving values from y_test based on index\n",
    "        indices = sorted(merged_df_race_dict[race])\n",
    "        merged_df_race = merged_df.iloc[indices]\n",
    "        # Calculate the concordance index\n",
    "        c_index_race = concordance_index(\n",
    "                        merged_df_race[interval_label],\n",
    "                        -merged_df_race[prediction_label],\n",
    "                        merged_df_race[event_label])\n",
    "        metric_list.append(c_index_race)\n",
    "    return float(np.mean(metric_list)-np.sqrt(np.var(metric_list)))"
   ]
  },
  {
   "cell_type": "code",
   "execution_count": 3,
   "id": "7021b4ea",
   "metadata": {
    "execution": {
     "iopub.execute_input": "2025-03-04T02:02:34.925054Z",
     "iopub.status.busy": "2025-03-04T02:02:34.924562Z",
     "iopub.status.idle": "2025-03-04T02:02:35.206237Z",
     "shell.execute_reply": "2025-03-04T02:02:35.204820Z"
    },
    "papermill": {
     "duration": 0.290304,
     "end_time": "2025-03-04T02:02:35.207839",
     "exception": false,
     "start_time": "2025-03-04T02:02:34.917535",
     "status": "completed"
    },
    "tags": []
   },
   "outputs": [],
   "source": [
    "data_dict = pd.read_csv('/kaggle/input/equity-post-HCT-survival-predictions/data_dictionary.csv')\n",
    "train_raw = pd.read_csv('/kaggle/input/equity-post-HCT-survival-predictions/train.csv')\n",
    "test_raw = pd.read_csv('/kaggle/input/equity-post-HCT-survival-predictions/test.csv')"
   ]
  },
  {
   "cell_type": "code",
   "execution_count": 4,
   "id": "8eedeef9",
   "metadata": {
    "execution": {
     "iopub.execute_input": "2025-03-04T02:02:35.222270Z",
     "iopub.status.busy": "2025-03-04T02:02:35.221905Z",
     "iopub.status.idle": "2025-03-04T02:02:35.242316Z",
     "shell.execute_reply": "2025-03-04T02:02:35.241362Z"
    },
    "papermill": {
     "duration": 0.028969,
     "end_time": "2025-03-04T02:02:35.243754",
     "exception": false,
     "start_time": "2025-03-04T02:02:35.214785",
     "status": "completed"
    },
    "tags": []
   },
   "outputs": [],
   "source": [
    "sub_df = test_raw[['ID']]"
   ]
  },
  {
   "cell_type": "code",
   "execution_count": 5,
   "id": "35777a1b",
   "metadata": {
    "execution": {
     "iopub.execute_input": "2025-03-04T02:02:35.256197Z",
     "iopub.status.busy": "2025-03-04T02:02:35.255802Z",
     "iopub.status.idle": "2025-03-04T02:02:35.259640Z",
     "shell.execute_reply": "2025-03-04T02:02:35.258594Z"
    },
    "papermill": {
     "duration": 0.011976,
     "end_time": "2025-03-04T02:02:35.261510",
     "exception": false,
     "start_time": "2025-03-04T02:02:35.249534",
     "status": "completed"
    },
    "tags": []
   },
   "outputs": [],
   "source": [
    "# NOTE: Dev only\n",
    "\n",
    "# from sklearn.model_selection import train_test_split\n",
    "\n",
    "# X = train_raw.copy()\n",
    "# y = [0]*len(train_raw)\n",
    "\n",
    "# train_raw, test_raw, _, _ = train_test_split(X, y, test_size=0.25, random_state=42)\n",
    "\n",
    "# # train_raw['tgt'] = tmp_train_y\n",
    "# # test_raw['tgt'] = tmp_test_y\n",
    "\n",
    "# train_raw = train_raw.reset_index(drop=True)\n",
    "# test_raw = test_raw.reset_index(drop=True)"
   ]
  },
  {
   "cell_type": "code",
   "execution_count": 6,
   "id": "f663be70",
   "metadata": {
    "execution": {
     "iopub.execute_input": "2025-03-04T02:02:35.274333Z",
     "iopub.status.busy": "2025-03-04T02:02:35.273971Z",
     "iopub.status.idle": "2025-03-04T02:02:35.307151Z",
     "shell.execute_reply": "2025-03-04T02:02:35.306173Z"
    },
    "papermill": {
     "duration": 0.04138,
     "end_time": "2025-03-04T02:02:35.308874",
     "exception": false,
     "start_time": "2025-03-04T02:02:35.267494",
     "status": "completed"
    },
    "tags": []
   },
   "outputs": [],
   "source": [
    "for df in [train_raw, test_raw]:\n",
    "    df['donor_age'] = round(df['donor_age']*2)/2\n",
    "    df['age_at_hct'] = round(df['age_at_hct']*2)/2"
   ]
  },
  {
   "cell_type": "code",
   "execution_count": 7,
   "id": "dd87d59e",
   "metadata": {
    "execution": {
     "iopub.execute_input": "2025-03-04T02:02:35.321280Z",
     "iopub.status.busy": "2025-03-04T02:02:35.320970Z",
     "iopub.status.idle": "2025-03-04T02:02:35.328637Z",
     "shell.execute_reply": "2025-03-04T02:02:35.327477Z"
    },
    "papermill": {
     "duration": 0.015425,
     "end_time": "2025-03-04T02:02:35.330220",
     "exception": false,
     "start_time": "2025-03-04T02:02:35.314795",
     "status": "completed"
    },
    "tags": []
   },
   "outputs": [],
   "source": [
    "cat_vars = [c for c in data_dict[data_dict.type == 'Categorical'].variable if c != 'efs']\n",
    "num_vars = [c for c in data_dict[data_dict.type == 'Numerical'].variable if c != 'efs_time']"
   ]
  },
  {
   "cell_type": "markdown",
   "id": "b9201bbe",
   "metadata": {
    "papermill": {
     "duration": 0.005193,
     "end_time": "2025-03-04T02:02:35.341806",
     "exception": false,
     "start_time": "2025-03-04T02:02:35.336613",
     "status": "completed"
    },
    "tags": []
   },
   "source": [
    "# Clustering"
   ]
  },
  {
   "cell_type": "code",
   "execution_count": 8,
   "id": "657168dd",
   "metadata": {
    "execution": {
     "iopub.execute_input": "2025-03-04T02:02:35.353210Z",
     "iopub.status.busy": "2025-03-04T02:02:35.352858Z",
     "iopub.status.idle": "2025-03-04T02:02:35.417664Z",
     "shell.execute_reply": "2025-03-04T02:02:35.416832Z"
    },
    "papermill": {
     "duration": 0.07245,
     "end_time": "2025-03-04T02:02:35.419389",
     "exception": false,
     "start_time": "2025-03-04T02:02:35.346939",
     "status": "completed"
    },
    "tags": []
   },
   "outputs": [],
   "source": [
    "for df in [train_raw, test_raw]:\n",
    "    for cat_var in cat_vars:\n",
    "        df[cat_var] = df[cat_var].fillna('Unknown')"
   ]
  },
  {
   "cell_type": "code",
   "execution_count": 9,
   "id": "09d5cb64",
   "metadata": {
    "execution": {
     "iopub.execute_input": "2025-03-04T02:02:35.431834Z",
     "iopub.status.busy": "2025-03-04T02:02:35.431488Z",
     "iopub.status.idle": "2025-03-04T02:02:35.476554Z",
     "shell.execute_reply": "2025-03-04T02:02:35.475504Z"
    },
    "papermill": {
     "duration": 0.053012,
     "end_time": "2025-03-04T02:02:35.478345",
     "exception": false,
     "start_time": "2025-03-04T02:02:35.425333",
     "status": "completed"
    },
    "tags": []
   },
   "outputs": [],
   "source": [
    "# Data cleaning and grouping for more accurate clusters\n",
    "\n",
    "cat_var_group_maps = ( # (var, map, fill_val)\n",
    "    (\n",
    "        'dri_score',\n",
    "        'high,other',\n",
    "        {\n",
    "            'High':'High', \n",
    "            'High - TED AML case <missing cytogenetics':'High', \n",
    "            'Very high':'High'\n",
    "        }, \n",
    "        'Other'\n",
    "    ),\n",
    "    (\n",
    "        'cyto_score',\n",
    "        'poor,other',\n",
    "        {\n",
    "            'Poor':'Poor'\n",
    "        },\n",
    "        'Other'\n",
    "    ),\n",
    "    (\n",
    "        'cyto_score_detail',\n",
    "        'favorable,intermediate,poor',\n",
    "        {\n",
    "            'Favorable':'Favorable', \n",
    "            'Poor':'Poor',\n",
    "        }, \n",
    "        'Intermediate'\n",
    "    ),\n",
    "    (\n",
    "        'conditioning_intensity',\n",
    "        'mac,nma,ric,other',\n",
    "        {\n",
    "            'MAC':'MAC',\n",
    "            'NMA':'NMA',\n",
    "            'RIC':'RIC'\n",
    "        },\n",
    "        'Other'\n",
    "    ),\n",
    "    create_yesno_group_map('psych_disturb'),\n",
    "    create_yesno_group_map('diabetes'),\n",
    "    create_yesno_group_map('arrhythmia'),\n",
    "    create_yesno_group_map('pulm_severe'),\n",
    "    create_yesno_group_map('hepatic_severe'),\n",
    "    create_yesno_group_map('prior_tumor'),\n",
    ")\n",
    "\n",
    "for var, grp_name, map_, fill_val in cat_var_group_maps:\n",
    "    train_raw[f'{var}_grp_{grp_name}'] = train_raw[var].map(map_).fillna(fill_val)\n",
    "    test_raw[f'{var}_grp_{grp_name}'] = test_raw[var].map(map_).fillna(fill_val)"
   ]
  },
  {
   "cell_type": "code",
   "execution_count": 10,
   "id": "ac9cae72",
   "metadata": {
    "execution": {
     "iopub.execute_input": "2025-03-04T02:02:35.491567Z",
     "iopub.status.busy": "2025-03-04T02:02:35.491285Z",
     "iopub.status.idle": "2025-03-04T02:02:35.506195Z",
     "shell.execute_reply": "2025-03-04T02:02:35.505106Z"
    },
    "papermill": {
     "duration": 0.022948,
     "end_time": "2025-03-04T02:02:35.507976",
     "exception": false,
     "start_time": "2025-03-04T02:02:35.485028",
     "status": "completed"
    },
    "tags": []
   },
   "outputs": [],
   "source": [
    "kmeans_variables = [\n",
    "    # 'comorbidity_score',\n",
    "    # 'karnofsky_score',\n",
    "    'tbi_status',\n",
    "    'prim_disease_hct',\n",
    "    'age_at_hct',\n",
    "    'dri_score_grp_high,other',\n",
    "    'cyto_score_grp_poor,other',\n",
    "    'cyto_score_detail_grp_favorable,intermediate,poor',\n",
    "    'conditioning_intensity_grp_mac,nma,ric,other',\n",
    "    'psych_disturb_grp_yes,no',\n",
    "    'diabetes_grp_yes,no',\n",
    "    'arrhythmia_grp_yes,no',\n",
    "    'pulm_severe_grp_yes,no',\n",
    "    'hepatic_severe_grp_yes,no',\n",
    "    'prior_tumor_grp_yes,no'\n",
    "]\n",
    "\n",
    "num_kmeans_variables = [c for c in train_raw[kmeans_variables] if c in num_vars]\n",
    "cat_kmeans_variables = [c for c in train_raw[kmeans_variables] if c in cat_vars]\n",
    "\n",
    "grp_vars = [c for c in train_raw if '_grp_' in c]\n",
    "cat_kmeans_variables +=grp_vars"
   ]
  },
  {
   "cell_type": "code",
   "execution_count": 11,
   "id": "13695624",
   "metadata": {
    "execution": {
     "iopub.execute_input": "2025-03-04T02:02:35.519869Z",
     "iopub.status.busy": "2025-03-04T02:02:35.519570Z",
     "iopub.status.idle": "2025-03-04T02:02:36.362451Z",
     "shell.execute_reply": "2025-03-04T02:02:36.361827Z"
    },
    "papermill": {
     "duration": 0.850659,
     "end_time": "2025-03-04T02:02:36.364343",
     "exception": false,
     "start_time": "2025-03-04T02:02:35.513684",
     "status": "completed"
    },
    "tags": []
   },
   "outputs": [],
   "source": [
    "train_raw['cluster_n2'], test_raw['cluster_n2'] = apply_kmeans(\n",
    "    train_raw, test_raw, 2, cat_kmeans_variables, num_kmeans_variables, random_state=42\n",
    ")\n",
    "\n",
    "train_raw['cluster_n3'], test_raw['cluster_n3'] = apply_kmeans(\n",
    "    train_raw, test_raw, 3, cat_kmeans_variables, num_kmeans_variables, random_state=42\n",
    ")\n",
    "\n",
    "train_raw['cluster_n4'], test_raw['cluster_n4'] = apply_kmeans(\n",
    "    train_raw, test_raw, 4, cat_kmeans_variables, num_kmeans_variables, random_state=42\n",
    ")"
   ]
  },
  {
   "cell_type": "code",
   "execution_count": 12,
   "id": "8b00c3a1",
   "metadata": {
    "execution": {
     "iopub.execute_input": "2025-03-04T02:02:36.378295Z",
     "iopub.status.busy": "2025-03-04T02:02:36.377549Z",
     "iopub.status.idle": "2025-03-04T02:02:36.398127Z",
     "shell.execute_reply": "2025-03-04T02:02:36.396752Z"
    },
    "papermill": {
     "duration": 0.029595,
     "end_time": "2025-03-04T02:02:36.400065",
     "exception": false,
     "start_time": "2025-03-04T02:02:36.370470",
     "status": "completed"
    },
    "tags": []
   },
   "outputs": [],
   "source": [
    "train_raw = train_raw[[c for c in train_raw if not '_grp_' in c]]\n",
    "test_raw = test_raw[[c for c in test_raw if not '_grp_' in c]]"
   ]
  },
  {
   "cell_type": "code",
   "execution_count": 13,
   "id": "a6353da1",
   "metadata": {
    "execution": {
     "iopub.execute_input": "2025-03-04T02:02:36.411961Z",
     "iopub.status.busy": "2025-03-04T02:02:36.411632Z",
     "iopub.status.idle": "2025-03-04T02:02:36.415863Z",
     "shell.execute_reply": "2025-03-04T02:02:36.414989Z"
    },
    "papermill": {
     "duration": 0.012082,
     "end_time": "2025-03-04T02:02:36.417868",
     "exception": false,
     "start_time": "2025-03-04T02:02:36.405786",
     "status": "completed"
    },
    "tags": []
   },
   "outputs": [],
   "source": [
    "cat_vars.extend(['cluster_n2', 'cluster_n3', 'cluster_n4'])"
   ]
  },
  {
   "cell_type": "code",
   "execution_count": 14,
   "id": "b12e4652",
   "metadata": {
    "execution": {
     "iopub.execute_input": "2025-03-04T02:02:36.430236Z",
     "iopub.status.busy": "2025-03-04T02:02:36.429839Z",
     "iopub.status.idle": "2025-03-04T02:02:36.437003Z",
     "shell.execute_reply": "2025-03-04T02:02:36.436185Z"
    },
    "papermill": {
     "duration": 0.014504,
     "end_time": "2025-03-04T02:02:36.438258",
     "exception": false,
     "start_time": "2025-03-04T02:02:36.423754",
     "status": "completed"
    },
    "tags": []
   },
   "outputs": [
    {
     "data": {
      "text/plain": [
       "(28800, 63)"
      ]
     },
     "metadata": {},
     "output_type": "display_data"
    },
    {
     "data": {
      "text/plain": [
       "(3, 61)"
      ]
     },
     "metadata": {},
     "output_type": "display_data"
    }
   ],
   "source": [
    "display(train_raw.shape)\n",
    "display(test_raw.shape)"
   ]
  },
  {
   "cell_type": "markdown",
   "id": "53120162",
   "metadata": {
    "papermill": {
     "duration": 0.004987,
     "end_time": "2025-03-04T02:02:36.449168",
     "exception": false,
     "start_time": "2025-03-04T02:02:36.444181",
     "status": "completed"
    },
    "tags": []
   },
   "source": [
    "## Calculate Target"
   ]
  },
  {
   "cell_type": "code",
   "execution_count": 15,
   "id": "a2953d53",
   "metadata": {
    "execution": {
     "iopub.execute_input": "2025-03-04T02:02:36.476753Z",
     "iopub.status.busy": "2025-03-04T02:02:36.476379Z",
     "iopub.status.idle": "2025-03-04T02:02:36.480171Z",
     "shell.execute_reply": "2025-03-04T02:02:36.479304Z"
    },
    "papermill": {
     "duration": 0.027169,
     "end_time": "2025-03-04T02:02:36.481501",
     "exception": false,
     "start_time": "2025-03-04T02:02:36.454332",
     "status": "completed"
    },
    "tags": []
   },
   "outputs": [],
   "source": [
    "from lifelines import KaplanMeierFitter"
   ]
  },
  {
   "cell_type": "code",
   "execution_count": 16,
   "id": "b24f4d68",
   "metadata": {
    "execution": {
     "iopub.execute_input": "2025-03-04T02:02:36.494239Z",
     "iopub.status.busy": "2025-03-04T02:02:36.493919Z",
     "iopub.status.idle": "2025-03-04T02:02:36.559767Z",
     "shell.execute_reply": "2025-03-04T02:02:36.558847Z"
    },
    "papermill": {
     "duration": 0.07352,
     "end_time": "2025-03-04T02:02:36.561260",
     "exception": false,
     "start_time": "2025-03-04T02:02:36.487740",
     "status": "completed"
    },
    "tags": []
   },
   "outputs": [],
   "source": [
    "kmf = KaplanMeierFitter()\n",
    "kmf.fit(train_raw['efs_time'], train_raw['efs'])\n",
    "train_raw['kmf'] = kmf.survival_function_at_times(train_raw['efs_time']).values"
   ]
  },
  {
   "cell_type": "markdown",
   "id": "a1cbeb59",
   "metadata": {
    "papermill": {
     "duration": 0.005202,
     "end_time": "2025-03-04T02:02:36.572200",
     "exception": false,
     "start_time": "2025-03-04T02:02:36.566998",
     "status": "completed"
    },
    "tags": []
   },
   "source": [
    "# Imputation - Numerical: NN Imputation & Union"
   ]
  },
  {
   "cell_type": "code",
   "execution_count": 17,
   "id": "1ac26c4d",
   "metadata": {
    "execution": {
     "iopub.execute_input": "2025-03-04T02:02:36.585222Z",
     "iopub.status.busy": "2025-03-04T02:02:36.584875Z",
     "iopub.status.idle": "2025-03-04T02:03:34.284518Z",
     "shell.execute_reply": "2025-03-04T02:03:34.283329Z"
    },
    "papermill": {
     "duration": 57.711069,
     "end_time": "2025-03-04T02:03:34.289763",
     "exception": false,
     "start_time": "2025-03-04T02:02:36.578694",
     "status": "completed"
    },
    "tags": []
   },
   "outputs": [
    {
     "name": "stdout",
     "output_type": "stream",
     "text": [
      "CPU times: user 55.8 s, sys: 5.43 s, total: 1min 1s\n",
      "Wall time: 57.7 s\n"
     ]
    }
   ],
   "source": [
    "%%time\n",
    "# Model Imputations\n",
    "encoder = OrdinalEncoder()\n",
    "imputer = KNNImputer(n_neighbors=2)\n",
    "\n",
    "train_nn_imp = get_model_imputation(train_raw, cat_vars, num_vars, encoder, imputer, fit=True)\n",
    "test_nn_imp = get_model_imputation(test_raw, cat_vars, num_vars, encoder, imputer)"
   ]
  },
  {
   "cell_type": "code",
   "execution_count": 18,
   "id": "755a4a16",
   "metadata": {
    "execution": {
     "iopub.execute_input": "2025-03-04T02:03:34.301435Z",
     "iopub.status.busy": "2025-03-04T02:03:34.301082Z",
     "iopub.status.idle": "2025-03-04T02:03:34.306958Z",
     "shell.execute_reply": "2025-03-04T02:03:34.306112Z"
    },
    "papermill": {
     "duration": 0.013286,
     "end_time": "2025-03-04T02:03:34.308276",
     "exception": false,
     "start_time": "2025-03-04T02:03:34.294990",
     "status": "completed"
    },
    "tags": []
   },
   "outputs": [
    {
     "data": {
      "text/plain": [
       "True"
      ]
     },
     "metadata": {},
     "output_type": "display_data"
    },
    {
     "data": {
      "text/plain": [
       "True"
      ]
     },
     "metadata": {},
     "output_type": "display_data"
    }
   ],
   "source": [
    "display(len(train_nn_imp) == len(train_raw))\n",
    "display(len(test_nn_imp) == len(test_raw))"
   ]
  },
  {
   "cell_type": "code",
   "execution_count": 19,
   "id": "5f17be1c",
   "metadata": {
    "execution": {
     "iopub.execute_input": "2025-03-04T02:03:34.320707Z",
     "iopub.status.busy": "2025-03-04T02:03:34.320413Z",
     "iopub.status.idle": "2025-03-04T02:03:34.360612Z",
     "shell.execute_reply": "2025-03-04T02:03:34.359658Z"
    },
    "papermill": {
     "duration": 0.047877,
     "end_time": "2025-03-04T02:03:34.362002",
     "exception": false,
     "start_time": "2025-03-04T02:03:34.314125",
     "status": "completed"
    },
    "tags": []
   },
   "outputs": [
    {
     "data": {
      "text/html": [
       "<div>\n",
       "<style scoped>\n",
       "    .dataframe tbody tr th:only-of-type {\n",
       "        vertical-align: middle;\n",
       "    }\n",
       "\n",
       "    .dataframe tbody tr th {\n",
       "        vertical-align: top;\n",
       "    }\n",
       "\n",
       "    .dataframe thead th {\n",
       "        text-align: right;\n",
       "    }\n",
       "</style>\n",
       "<table border=\"1\" class=\"dataframe\">\n",
       "  <thead>\n",
       "    <tr style=\"text-align: right;\">\n",
       "      <th></th>\n",
       "      <th>ID</th>\n",
       "      <th>dri_score</th>\n",
       "      <th>psych_disturb</th>\n",
       "      <th>cyto_score</th>\n",
       "      <th>diabetes</th>\n",
       "      <th>hla_match_c_high</th>\n",
       "      <th>hla_high_res_8</th>\n",
       "      <th>tbi_status</th>\n",
       "      <th>arrhythmia</th>\n",
       "      <th>hla_low_res_6</th>\n",
       "      <th>...</th>\n",
       "      <th>cardiac</th>\n",
       "      <th>hla_match_drb1_high</th>\n",
       "      <th>pulm_moderate</th>\n",
       "      <th>hla_low_res_10</th>\n",
       "      <th>efs</th>\n",
       "      <th>efs_time</th>\n",
       "      <th>cluster_n2</th>\n",
       "      <th>cluster_n3</th>\n",
       "      <th>cluster_n4</th>\n",
       "      <th>kmf</th>\n",
       "    </tr>\n",
       "  </thead>\n",
       "  <tbody>\n",
       "    <tr>\n",
       "      <th>0</th>\n",
       "      <td>0</td>\n",
       "      <td>N/A - non-malignant indication</td>\n",
       "      <td>No</td>\n",
       "      <td>Unknown</td>\n",
       "      <td>No</td>\n",
       "      <td>NaN</td>\n",
       "      <td>NaN</td>\n",
       "      <td>No TBI</td>\n",
       "      <td>No</td>\n",
       "      <td>6.0</td>\n",
       "      <td>...</td>\n",
       "      <td>No</td>\n",
       "      <td>2.0</td>\n",
       "      <td>No</td>\n",
       "      <td>10.0</td>\n",
       "      <td>0.0</td>\n",
       "      <td>42.356</td>\n",
       "      <td>1</td>\n",
       "      <td>0</td>\n",
       "      <td>1</td>\n",
       "      <td>0.458687</td>\n",
       "    </tr>\n",
       "    <tr>\n",
       "      <th>1</th>\n",
       "      <td>1</td>\n",
       "      <td>Intermediate</td>\n",
       "      <td>No</td>\n",
       "      <td>Intermediate</td>\n",
       "      <td>No</td>\n",
       "      <td>2.0</td>\n",
       "      <td>8.0</td>\n",
       "      <td>TBI +- Other, &gt;cGy</td>\n",
       "      <td>No</td>\n",
       "      <td>6.0</td>\n",
       "      <td>...</td>\n",
       "      <td>No</td>\n",
       "      <td>2.0</td>\n",
       "      <td>Yes</td>\n",
       "      <td>10.0</td>\n",
       "      <td>1.0</td>\n",
       "      <td>4.672</td>\n",
       "      <td>0</td>\n",
       "      <td>2</td>\n",
       "      <td>3</td>\n",
       "      <td>0.847759</td>\n",
       "    </tr>\n",
       "  </tbody>\n",
       "</table>\n",
       "<p>2 rows × 64 columns</p>\n",
       "</div>"
      ],
      "text/plain": [
       "   ID                       dri_score psych_disturb    cyto_score diabetes  \\\n",
       "0   0  N/A - non-malignant indication            No       Unknown       No   \n",
       "1   1                    Intermediate            No  Intermediate       No   \n",
       "\n",
       "   hla_match_c_high  hla_high_res_8          tbi_status arrhythmia  \\\n",
       "0               NaN             NaN              No TBI         No   \n",
       "1               2.0             8.0  TBI +- Other, >cGy         No   \n",
       "\n",
       "   hla_low_res_6  ... cardiac hla_match_drb1_high pulm_moderate  \\\n",
       "0            6.0  ...      No                 2.0            No   \n",
       "1            6.0  ...      No                 2.0           Yes   \n",
       "\n",
       "  hla_low_res_10  efs  efs_time cluster_n2  cluster_n3  cluster_n4       kmf  \n",
       "0           10.0  0.0    42.356          1           0           1  0.458687  \n",
       "1           10.0  1.0     4.672          0           2           3  0.847759  \n",
       "\n",
       "[2 rows x 64 columns]"
      ]
     },
     "metadata": {},
     "output_type": "display_data"
    },
    {
     "data": {
      "text/html": [
       "<div>\n",
       "<style scoped>\n",
       "    .dataframe tbody tr th:only-of-type {\n",
       "        vertical-align: middle;\n",
       "    }\n",
       "\n",
       "    .dataframe tbody tr th {\n",
       "        vertical-align: top;\n",
       "    }\n",
       "\n",
       "    .dataframe thead th {\n",
       "        text-align: right;\n",
       "    }\n",
       "</style>\n",
       "<table border=\"1\" class=\"dataframe\">\n",
       "  <thead>\n",
       "    <tr style=\"text-align: right;\">\n",
       "      <th></th>\n",
       "      <th>dri_score_NNFill</th>\n",
       "      <th>psych_disturb_NNFill</th>\n",
       "      <th>cyto_score_NNFill</th>\n",
       "      <th>diabetes_NNFill</th>\n",
       "      <th>tbi_status_NNFill</th>\n",
       "      <th>arrhythmia_NNFill</th>\n",
       "      <th>graft_type_NNFill</th>\n",
       "      <th>vent_hist_NNFill</th>\n",
       "      <th>renal_issue_NNFill</th>\n",
       "      <th>pulm_severe_NNFill</th>\n",
       "      <th>...</th>\n",
       "      <th>donor_age_NNFill</th>\n",
       "      <th>hla_match_b_low_NNFill</th>\n",
       "      <th>age_at_hct_NNFill</th>\n",
       "      <th>hla_match_a_low_NNFill</th>\n",
       "      <th>hla_match_b_high_NNFill</th>\n",
       "      <th>comorbidity_score_NNFill</th>\n",
       "      <th>karnofsky_score_NNFill</th>\n",
       "      <th>hla_low_res_8_NNFill</th>\n",
       "      <th>hla_match_drb1_high_NNFill</th>\n",
       "      <th>hla_low_res_10_NNFill</th>\n",
       "    </tr>\n",
       "  </thead>\n",
       "  <tbody>\n",
       "    <tr>\n",
       "      <th>0</th>\n",
       "      <td>N/A - non-malignant indication</td>\n",
       "      <td>No</td>\n",
       "      <td>Unknown</td>\n",
       "      <td>No</td>\n",
       "      <td>No TBI</td>\n",
       "      <td>No</td>\n",
       "      <td>Bone marrow</td>\n",
       "      <td>No</td>\n",
       "      <td>No</td>\n",
       "      <td>No</td>\n",
       "      <td>...</td>\n",
       "      <td>42.5</td>\n",
       "      <td>2.0</td>\n",
       "      <td>10.0</td>\n",
       "      <td>2.0</td>\n",
       "      <td>2.0</td>\n",
       "      <td>0.0</td>\n",
       "      <td>90.0</td>\n",
       "      <td>8.0</td>\n",
       "      <td>2.0</td>\n",
       "      <td>10.0</td>\n",
       "    </tr>\n",
       "    <tr>\n",
       "      <th>1</th>\n",
       "      <td>Intermediate</td>\n",
       "      <td>No</td>\n",
       "      <td>Intermediate</td>\n",
       "      <td>No</td>\n",
       "      <td>TBI +- Other, &gt;cGy</td>\n",
       "      <td>No</td>\n",
       "      <td>Peripheral blood</td>\n",
       "      <td>No</td>\n",
       "      <td>No</td>\n",
       "      <td>No</td>\n",
       "      <td>...</td>\n",
       "      <td>72.5</td>\n",
       "      <td>2.0</td>\n",
       "      <td>43.5</td>\n",
       "      <td>2.0</td>\n",
       "      <td>2.0</td>\n",
       "      <td>3.0</td>\n",
       "      <td>90.0</td>\n",
       "      <td>8.0</td>\n",
       "      <td>2.0</td>\n",
       "      <td>10.0</td>\n",
       "    </tr>\n",
       "  </tbody>\n",
       "</table>\n",
       "<p>2 rows × 60 columns</p>\n",
       "</div>"
      ],
      "text/plain": [
       "                 dri_score_NNFill psych_disturb_NNFill cyto_score_NNFill  \\\n",
       "0  N/A - non-malignant indication                   No           Unknown   \n",
       "1                    Intermediate                   No      Intermediate   \n",
       "\n",
       "  diabetes_NNFill   tbi_status_NNFill arrhythmia_NNFill graft_type_NNFill  \\\n",
       "0              No              No TBI                No       Bone marrow   \n",
       "1              No  TBI +- Other, >cGy                No  Peripheral blood   \n",
       "\n",
       "  vent_hist_NNFill renal_issue_NNFill pulm_severe_NNFill  ...  \\\n",
       "0               No                 No                 No  ...   \n",
       "1               No                 No                 No  ...   \n",
       "\n",
       "  donor_age_NNFill hla_match_b_low_NNFill age_at_hct_NNFill  \\\n",
       "0             42.5                    2.0              10.0   \n",
       "1             72.5                    2.0              43.5   \n",
       "\n",
       "  hla_match_a_low_NNFill hla_match_b_high_NNFill comorbidity_score_NNFill  \\\n",
       "0                    2.0                     2.0                      0.0   \n",
       "1                    2.0                     2.0                      3.0   \n",
       "\n",
       "  karnofsky_score_NNFill hla_low_res_8_NNFill hla_match_drb1_high_NNFill  \\\n",
       "0                   90.0                  8.0                        2.0   \n",
       "1                   90.0                  8.0                        2.0   \n",
       "\n",
       "  hla_low_res_10_NNFill  \n",
       "0                  10.0  \n",
       "1                  10.0  \n",
       "\n",
       "[2 rows x 60 columns]"
      ]
     },
     "metadata": {},
     "output_type": "display_data"
    }
   ],
   "source": [
    "display(train_raw.head(2))\n",
    "display(train_nn_imp.head(2))"
   ]
  },
  {
   "cell_type": "code",
   "execution_count": 20,
   "id": "a30a5865",
   "metadata": {
    "execution": {
     "iopub.execute_input": "2025-03-04T02:03:34.375153Z",
     "iopub.status.busy": "2025-03-04T02:03:34.374800Z",
     "iopub.status.idle": "2025-03-04T02:03:34.409854Z",
     "shell.execute_reply": "2025-03-04T02:03:34.409095Z"
    },
    "papermill": {
     "duration": 0.043419,
     "end_time": "2025-03-04T02:03:34.411565",
     "exception": false,
     "start_time": "2025-03-04T02:03:34.368146",
     "status": "completed"
    },
    "tags": []
   },
   "outputs": [],
   "source": [
    "stacks = 1\n",
    "train_cols = ['efs', 'efs_time', 'kmf']\n",
    "\n",
    "## V-Stack\n",
    "train_raw = stack_imputations(train_raw, train_nn_imp, 'NNFill', True, train_cols)\n",
    "test_raw = stack_imputations(test_raw, test_nn_imp, 'NNFill', False, train_cols)\n",
    "\n",
    "stacks += 1\n",
    "\n",
    "## H-Stack\n",
    "# train_raw = pd.concat([train_raw, train_nn_imp])\n",
    "# train_raw = pd.concat([test_raw, test_nn_imp])"
   ]
  },
  {
   "cell_type": "code",
   "execution_count": 21,
   "id": "2174147e",
   "metadata": {
    "execution": {
     "iopub.execute_input": "2025-03-04T02:03:34.425217Z",
     "iopub.status.busy": "2025-03-04T02:03:34.424839Z",
     "iopub.status.idle": "2025-03-04T02:03:34.431404Z",
     "shell.execute_reply": "2025-03-04T02:03:34.430062Z"
    },
    "papermill": {
     "duration": 0.015205,
     "end_time": "2025-03-04T02:03:34.432915",
     "exception": false,
     "start_time": "2025-03-04T02:03:34.417710",
     "status": "completed"
    },
    "tags": []
   },
   "outputs": [
    {
     "data": {
      "text/plain": [
       "(57600, 64)"
      ]
     },
     "metadata": {},
     "output_type": "display_data"
    },
    {
     "data": {
      "text/plain": [
       "(6, 61)"
      ]
     },
     "metadata": {},
     "output_type": "display_data"
    }
   ],
   "source": [
    "display(train_raw.shape)\n",
    "display(test_raw.shape)"
   ]
  },
  {
   "cell_type": "code",
   "execution_count": 22,
   "id": "d4468d84",
   "metadata": {
    "execution": {
     "iopub.execute_input": "2025-03-04T02:03:34.446717Z",
     "iopub.status.busy": "2025-03-04T02:03:34.446372Z",
     "iopub.status.idle": "2025-03-04T02:03:35.168701Z",
     "shell.execute_reply": "2025-03-04T02:03:35.167533Z"
    },
    "papermill": {
     "duration": 0.73111,
     "end_time": "2025-03-04T02:03:35.170455",
     "exception": false,
     "start_time": "2025-03-04T02:03:34.439345",
     "status": "completed"
    },
    "tags": []
   },
   "outputs": [],
   "source": [
    "tmp_train = train_raw.iloc[:len(train_raw)//2]\n",
    "tmp_test = test_raw.iloc[:len(test_raw)//2]\n",
    "\n",
    "train_simp_imp = get_simple_imputations(tmp_train, cat_vars, num_vars)\n",
    "test_simp_imp = get_simple_imputations(tmp_test, cat_vars, num_vars)\n",
    "\n",
    "## V-Stack\n",
    "train_raw = stack_imputations(train_raw, train_simp_imp, 'ModeGrpFill', True, train_cols)\n",
    "test_raw = stack_imputations(test_raw, test_simp_imp, 'ModeGrpFill', False, train_cols)\n",
    "\n",
    "stacks += 1"
   ]
  },
  {
   "cell_type": "code",
   "execution_count": 23,
   "id": "dc3463b5",
   "metadata": {
    "execution": {
     "iopub.execute_input": "2025-03-04T02:03:35.184261Z",
     "iopub.status.busy": "2025-03-04T02:03:35.183923Z",
     "iopub.status.idle": "2025-03-04T02:03:35.189334Z",
     "shell.execute_reply": "2025-03-04T02:03:35.188617Z"
    },
    "papermill": {
     "duration": 0.013688,
     "end_time": "2025-03-04T02:03:35.190660",
     "exception": false,
     "start_time": "2025-03-04T02:03:35.176972",
     "status": "completed"
    },
    "tags": []
   },
   "outputs": [
    {
     "data": {
      "text/plain": [
       "(86400, 64)"
      ]
     },
     "metadata": {},
     "output_type": "display_data"
    },
    {
     "data": {
      "text/plain": [
       "(9, 61)"
      ]
     },
     "metadata": {},
     "output_type": "display_data"
    }
   ],
   "source": [
    "display(train_raw.shape)\n",
    "display(test_raw.shape)"
   ]
  },
  {
   "cell_type": "code",
   "execution_count": 24,
   "id": "74b11d25",
   "metadata": {
    "execution": {
     "iopub.execute_input": "2025-03-04T02:03:35.204947Z",
     "iopub.status.busy": "2025-03-04T02:03:35.204559Z",
     "iopub.status.idle": "2025-03-04T02:03:35.209034Z",
     "shell.execute_reply": "2025-03-04T02:03:35.208255Z"
    },
    "papermill": {
     "duration": 0.013224,
     "end_time": "2025-03-04T02:03:35.210609",
     "exception": false,
     "start_time": "2025-03-04T02:03:35.197385",
     "status": "completed"
    },
    "tags": []
   },
   "outputs": [
    {
     "data": {
      "text/plain": [
       "3"
      ]
     },
     "execution_count": 24,
     "metadata": {},
     "output_type": "execute_result"
    }
   ],
   "source": [
    "stacks"
   ]
  },
  {
   "cell_type": "markdown",
   "id": "bfc771a0",
   "metadata": {
    "papermill": {
     "duration": 0.005988,
     "end_time": "2025-03-04T02:03:35.223281",
     "exception": false,
     "start_time": "2025-03-04T02:03:35.217293",
     "status": "completed"
    },
    "tags": []
   },
   "source": [
    "# Models"
   ]
  },
  {
   "cell_type": "markdown",
   "id": "67392fa7",
   "metadata": {
    "papermill": {
     "duration": 0.006189,
     "end_time": "2025-03-04T02:03:35.235599",
     "exception": false,
     "start_time": "2025-03-04T02:03:35.229410",
     "status": "completed"
    },
    "tags": []
   },
   "source": [
    "## Setup"
   ]
  },
  {
   "cell_type": "code",
   "execution_count": 25,
   "id": "88517d7d",
   "metadata": {
    "execution": {
     "iopub.execute_input": "2025-03-04T02:03:35.249701Z",
     "iopub.status.busy": "2025-03-04T02:03:35.249364Z",
     "iopub.status.idle": "2025-03-04T02:03:36.485646Z",
     "shell.execute_reply": "2025-03-04T02:03:36.484723Z"
    },
    "papermill": {
     "duration": 1.245103,
     "end_time": "2025-03-04T02:03:36.487147",
     "exception": false,
     "start_time": "2025-03-04T02:03:35.242044",
     "status": "completed"
    },
    "tags": []
   },
   "outputs": [],
   "source": [
    "import xgboost as xgb\n",
    "import h2o\n",
    "from h2o.automl import H2OAutoML"
   ]
  },
  {
   "cell_type": "code",
   "execution_count": 26,
   "id": "9f4163cb",
   "metadata": {
    "execution": {
     "iopub.execute_input": "2025-03-04T02:03:36.502984Z",
     "iopub.status.busy": "2025-03-04T02:03:36.502590Z",
     "iopub.status.idle": "2025-03-04T02:03:36.506129Z",
     "shell.execute_reply": "2025-03-04T02:03:36.505353Z"
    },
    "papermill": {
     "duration": 0.013564,
     "end_time": "2025-03-04T02:03:36.507418",
     "exception": false,
     "start_time": "2025-03-04T02:03:36.493854",
     "status": "completed"
    },
    "tags": []
   },
   "outputs": [],
   "source": [
    "predictors = num_vars + cat_vars"
   ]
  },
  {
   "cell_type": "markdown",
   "id": "73972425",
   "metadata": {
    "papermill": {
     "duration": 0.006306,
     "end_time": "2025-03-04T02:03:36.520609",
     "exception": false,
     "start_time": "2025-03-04T02:03:36.514303",
     "status": "completed"
    },
    "tags": []
   },
   "source": [
    "## H2O"
   ]
  },
  {
   "cell_type": "code",
   "execution_count": 27,
   "id": "8679b2bc",
   "metadata": {
    "execution": {
     "iopub.execute_input": "2025-03-04T02:03:36.534765Z",
     "iopub.status.busy": "2025-03-04T02:03:36.534371Z",
     "iopub.status.idle": "2025-03-04T02:03:45.318985Z",
     "shell.execute_reply": "2025-03-04T02:03:45.317801Z"
    },
    "papermill": {
     "duration": 8.79385,
     "end_time": "2025-03-04T02:03:45.320727",
     "exception": false,
     "start_time": "2025-03-04T02:03:36.526877",
     "status": "completed"
    },
    "tags": []
   },
   "outputs": [],
   "source": [
    "%%capture\n",
    "\n",
    "# basic init should be fine\n",
    "h2o.init()"
   ]
  },
  {
   "cell_type": "code",
   "execution_count": 28,
   "id": "749cf192",
   "metadata": {
    "execution": {
     "iopub.execute_input": "2025-03-04T02:03:45.335453Z",
     "iopub.status.busy": "2025-03-04T02:03:45.335129Z",
     "iopub.status.idle": "2025-03-04T02:03:51.859613Z",
     "shell.execute_reply": "2025-03-04T02:03:51.858737Z"
    },
    "papermill": {
     "duration": 6.533344,
     "end_time": "2025-03-04T02:03:51.861040",
     "exception": false,
     "start_time": "2025-03-04T02:03:45.327696",
     "status": "completed"
    },
    "tags": []
   },
   "outputs": [
    {
     "name": "stdout",
     "output_type": "stream",
     "text": [
      "Parse progress: |████████████████████████████████████████████████████████████████| (done) 100%\n",
      "Parse progress: |████████████████████████████████████████████████████████████████| (done) 100%\n"
     ]
    }
   ],
   "source": [
    "train_h2o = h2o.H2OFrame(train_raw[predictors+['kmf']])\n",
    "test_h2o = h2o.H2OFrame(test_raw[predictors])"
   ]
  },
  {
   "cell_type": "code",
   "execution_count": 29,
   "id": "59e2dc44",
   "metadata": {
    "execution": {
     "iopub.execute_input": "2025-03-04T02:03:51.879263Z",
     "iopub.status.busy": "2025-03-04T02:03:51.878980Z",
     "iopub.status.idle": "2025-03-04T02:03:51.904797Z",
     "shell.execute_reply": "2025-03-04T02:03:51.904151Z"
    },
    "papermill": {
     "duration": 0.036162,
     "end_time": "2025-03-04T02:03:51.906218",
     "exception": false,
     "start_time": "2025-03-04T02:03:51.870056",
     "status": "completed"
    },
    "tags": []
   },
   "outputs": [],
   "source": [
    "# H2O likes to (annoyingly) assign data values based on first record sometimes\n",
    "\n",
    "for h2o_df in [train_h2o, test_h2o]:\n",
    "    for col in predictors:\n",
    "        if col in cat_vars:\n",
    "            if h2o_df[col].types[col] == 'real':  # Check H2O column type\n",
    "                h2o_df[col] = h2o_df[col].ascharacter().asfactor()\n",
    "                h2o_df[col] = h2o_df[col].ascharacter().asfactor()\n",
    "            else:\n",
    "                h2o_df[col] = h2o_df[col].asfactor()\n",
    "                h2o_df[col] = h2o_df[col].asfactor()\n",
    "        else:\n",
    "            h2o_df[col] = h2o_df[col].asnumeric()\n",
    "            h2o_df[col] = h2o_df[col].asnumeric()"
   ]
  },
  {
   "cell_type": "code",
   "execution_count": 30,
   "id": "23436887",
   "metadata": {
    "execution": {
     "iopub.execute_input": "2025-03-04T02:03:51.923728Z",
     "iopub.status.busy": "2025-03-04T02:03:51.923424Z",
     "iopub.status.idle": "2025-03-04T03:10:41.395536Z",
     "shell.execute_reply": "2025-03-04T03:10:41.394618Z"
    },
    "papermill": {
     "duration": 4009.48286,
     "end_time": "2025-03-04T03:10:41.397484",
     "exception": false,
     "start_time": "2025-03-04T02:03:51.914624",
     "status": "completed"
    },
    "tags": []
   },
   "outputs": [
    {
     "name": "stdout",
     "output_type": "stream",
     "text": [
      "AutoML progress: |███████████████████████████████████████████████████████████████| (done) 100%\n"
     ]
    },
    {
     "data": {
      "text/html": [
       "<pre style='margin: 1em 0 1em 0;'>Model Details\n",
       "=============\n",
       "H2OXGBoostEstimator : XGBoost\n",
       "Model Key: XGBoost_grid_1_AutoML_1_20250304_20359_model_4\n",
       "</pre>\n",
       "<div style='margin: 1em 0 1em 0;'>\n",
       "<style>\n",
       "\n",
       "#h2o-table-2.h2o-container {\n",
       "  overflow-x: auto;\n",
       "}\n",
       "#h2o-table-2 .h2o-table {\n",
       "  /* width: 100%; */\n",
       "  margin-top: 1em;\n",
       "  margin-bottom: 1em;\n",
       "}\n",
       "#h2o-table-2 .h2o-table caption {\n",
       "  white-space: nowrap;\n",
       "  caption-side: top;\n",
       "  text-align: left;\n",
       "  /* margin-left: 1em; */\n",
       "  margin: 0;\n",
       "  font-size: larger;\n",
       "}\n",
       "#h2o-table-2 .h2o-table thead {\n",
       "  white-space: nowrap; \n",
       "  position: sticky;\n",
       "  top: 0;\n",
       "  box-shadow: 0 -1px inset;\n",
       "}\n",
       "#h2o-table-2 .h2o-table tbody {\n",
       "  overflow: auto;\n",
       "}\n",
       "#h2o-table-2 .h2o-table th,\n",
       "#h2o-table-2 .h2o-table td {\n",
       "  text-align: right;\n",
       "  /* border: 1px solid; */\n",
       "}\n",
       "#h2o-table-2 .h2o-table tr:nth-child(even) {\n",
       "  /* background: #F5F5F5 */\n",
       "}\n",
       "\n",
       "</style>      \n",
       "<div id=\"h2o-table-2\" class=\"h2o-container\">\n",
       "  <table class=\"h2o-table\">\n",
       "    <caption>Model Summary: </caption>\n",
       "    <thead><tr><th></th>\n",
       "<th>number_of_trees</th></tr></thead>\n",
       "    <tbody><tr><td></td>\n",
       "<td>110.0</td></tr></tbody>\n",
       "  </table>\n",
       "</div>\n",
       "</div>\n",
       "<div style='margin: 1em 0 1em 0;'><pre style='margin: 1em 0 1em 0;'>ModelMetricsRegression: xgboost\n",
       "** Reported on train data. **\n",
       "\n",
       "MSE: 0.023268261281341608\n",
       "RMSE: 0.15253937616675114\n",
       "MAE: 0.12588140783762491\n",
       "RMSLE: 0.09174679739123577\n",
       "Mean Residual Deviance: 0.023268261281341608</pre></div>\n",
       "<div style='margin: 1em 0 1em 0;'><pre style='margin: 1em 0 1em 0;'>ModelMetricsRegression: xgboost\n",
       "** Reported on cross-validation data. **\n",
       "\n",
       "MSE: 0.02470675053990886\n",
       "RMSE: 0.1571838113162703\n",
       "MAE: 0.12961253009391605\n",
       "RMSLE: 0.09457119253748227\n",
       "Mean Residual Deviance: 0.02470675053990886</pre></div>\n",
       "<div style='margin: 1em 0 1em 0;'>\n",
       "<style>\n",
       "\n",
       "#h2o-table-3.h2o-container {\n",
       "  overflow-x: auto;\n",
       "}\n",
       "#h2o-table-3 .h2o-table {\n",
       "  /* width: 100%; */\n",
       "  margin-top: 1em;\n",
       "  margin-bottom: 1em;\n",
       "}\n",
       "#h2o-table-3 .h2o-table caption {\n",
       "  white-space: nowrap;\n",
       "  caption-side: top;\n",
       "  text-align: left;\n",
       "  /* margin-left: 1em; */\n",
       "  margin: 0;\n",
       "  font-size: larger;\n",
       "}\n",
       "#h2o-table-3 .h2o-table thead {\n",
       "  white-space: nowrap; \n",
       "  position: sticky;\n",
       "  top: 0;\n",
       "  box-shadow: 0 -1px inset;\n",
       "}\n",
       "#h2o-table-3 .h2o-table tbody {\n",
       "  overflow: auto;\n",
       "}\n",
       "#h2o-table-3 .h2o-table th,\n",
       "#h2o-table-3 .h2o-table td {\n",
       "  text-align: right;\n",
       "  /* border: 1px solid; */\n",
       "}\n",
       "#h2o-table-3 .h2o-table tr:nth-child(even) {\n",
       "  /* background: #F5F5F5 */\n",
       "}\n",
       "\n",
       "</style>      \n",
       "<div id=\"h2o-table-3\" class=\"h2o-container\">\n",
       "  <table class=\"h2o-table\">\n",
       "    <caption>Cross-Validation Metrics Summary: </caption>\n",
       "    <thead><tr><th></th>\n",
       "<th>mean</th>\n",
       "<th>sd</th>\n",
       "<th>cv_1_valid</th>\n",
       "<th>cv_2_valid</th>\n",
       "<th>cv_3_valid</th>\n",
       "<th>cv_4_valid</th>\n",
       "<th>cv_5_valid</th>\n",
       "<th>cv_6_valid</th>\n",
       "<th>cv_7_valid</th>\n",
       "<th>cv_8_valid</th>\n",
       "<th>cv_9_valid</th>\n",
       "<th>cv_10_valid</th></tr></thead>\n",
       "    <tbody><tr><td>aic</td>\n",
       "<td>nan</td>\n",
       "<td>0.0</td>\n",
       "<td>nan</td>\n",
       "<td>nan</td>\n",
       "<td>nan</td>\n",
       "<td>nan</td>\n",
       "<td>nan</td>\n",
       "<td>nan</td>\n",
       "<td>nan</td>\n",
       "<td>nan</td>\n",
       "<td>nan</td>\n",
       "<td>nan</td></tr>\n",
       "<tr><td>loglikelihood</td>\n",
       "<td>nan</td>\n",
       "<td>0.0</td>\n",
       "<td>nan</td>\n",
       "<td>nan</td>\n",
       "<td>nan</td>\n",
       "<td>nan</td>\n",
       "<td>nan</td>\n",
       "<td>nan</td>\n",
       "<td>nan</td>\n",
       "<td>nan</td>\n",
       "<td>nan</td>\n",
       "<td>nan</td></tr>\n",
       "<tr><td>mae</td>\n",
       "<td>0.1296125</td>\n",
       "<td>0.0013125</td>\n",
       "<td>0.1285602</td>\n",
       "<td>0.1318537</td>\n",
       "<td>0.1284756</td>\n",
       "<td>0.1308741</td>\n",
       "<td>0.1293751</td>\n",
       "<td>0.1311845</td>\n",
       "<td>0.1280319</td>\n",
       "<td>0.1296093</td>\n",
       "<td>0.1297507</td>\n",
       "<td>0.1284103</td></tr>\n",
       "<tr><td>mean_residual_deviance</td>\n",
       "<td>0.0247068</td>\n",
       "<td>0.0005018</td>\n",
       "<td>0.0244389</td>\n",
       "<td>0.0257092</td>\n",
       "<td>0.0243480</td>\n",
       "<td>0.0249659</td>\n",
       "<td>0.0246565</td>\n",
       "<td>0.0253409</td>\n",
       "<td>0.0240638</td>\n",
       "<td>0.0244461</td>\n",
       "<td>0.0247190</td>\n",
       "<td>0.0243790</td></tr>\n",
       "<tr><td>mse</td>\n",
       "<td>0.0247068</td>\n",
       "<td>0.0005018</td>\n",
       "<td>0.0244389</td>\n",
       "<td>0.0257092</td>\n",
       "<td>0.0243480</td>\n",
       "<td>0.0249659</td>\n",
       "<td>0.0246565</td>\n",
       "<td>0.0253409</td>\n",
       "<td>0.0240638</td>\n",
       "<td>0.0244461</td>\n",
       "<td>0.0247190</td>\n",
       "<td>0.0243790</td></tr>\n",
       "<tr><td>r2</td>\n",
       "<td>0.2085118</td>\n",
       "<td>0.0163575</td>\n",
       "<td>0.2074753</td>\n",
       "<td>0.1964280</td>\n",
       "<td>0.2204298</td>\n",
       "<td>0.2148940</td>\n",
       "<td>0.2108452</td>\n",
       "<td>0.1804764</td>\n",
       "<td>0.2155448</td>\n",
       "<td>0.1893167</td>\n",
       "<td>0.2119158</td>\n",
       "<td>0.2377918</td></tr>\n",
       "<tr><td>residual_deviance</td>\n",
       "<td>0.0247068</td>\n",
       "<td>0.0005018</td>\n",
       "<td>0.0244389</td>\n",
       "<td>0.0257092</td>\n",
       "<td>0.0243480</td>\n",
       "<td>0.0249659</td>\n",
       "<td>0.0246565</td>\n",
       "<td>0.0253409</td>\n",
       "<td>0.0240638</td>\n",
       "<td>0.0244461</td>\n",
       "<td>0.0247190</td>\n",
       "<td>0.0243790</td></tr>\n",
       "<tr><td>rmse</td>\n",
       "<td>0.1571766</td>\n",
       "<td>0.0015900</td>\n",
       "<td>0.1563295</td>\n",
       "<td>0.1603410</td>\n",
       "<td>0.1560385</td>\n",
       "<td>0.1580059</td>\n",
       "<td>0.1570240</td>\n",
       "<td>0.1591884</td>\n",
       "<td>0.1551252</td>\n",
       "<td>0.1563526</td>\n",
       "<td>0.1572228</td>\n",
       "<td>0.1561378</td></tr>\n",
       "<tr><td>rmsle</td>\n",
       "<td>0.0945672</td>\n",
       "<td>0.0009113</td>\n",
       "<td>0.0941753</td>\n",
       "<td>0.0963321</td>\n",
       "<td>0.0938318</td>\n",
       "<td>0.0949592</td>\n",
       "<td>0.0945349</td>\n",
       "<td>0.0957646</td>\n",
       "<td>0.0933273</td>\n",
       "<td>0.0943036</td>\n",
       "<td>0.0945617</td>\n",
       "<td>0.0938819</td></tr></tbody>\n",
       "  </table>\n",
       "</div>\n",
       "</div>\n",
       "<div style='margin: 1em 0 1em 0;'>\n",
       "<style>\n",
       "\n",
       "#h2o-table-4.h2o-container {\n",
       "  overflow-x: auto;\n",
       "}\n",
       "#h2o-table-4 .h2o-table {\n",
       "  /* width: 100%; */\n",
       "  margin-top: 1em;\n",
       "  margin-bottom: 1em;\n",
       "}\n",
       "#h2o-table-4 .h2o-table caption {\n",
       "  white-space: nowrap;\n",
       "  caption-side: top;\n",
       "  text-align: left;\n",
       "  /* margin-left: 1em; */\n",
       "  margin: 0;\n",
       "  font-size: larger;\n",
       "}\n",
       "#h2o-table-4 .h2o-table thead {\n",
       "  white-space: nowrap; \n",
       "  position: sticky;\n",
       "  top: 0;\n",
       "  box-shadow: 0 -1px inset;\n",
       "}\n",
       "#h2o-table-4 .h2o-table tbody {\n",
       "  overflow: auto;\n",
       "}\n",
       "#h2o-table-4 .h2o-table th,\n",
       "#h2o-table-4 .h2o-table td {\n",
       "  text-align: right;\n",
       "  /* border: 1px solid; */\n",
       "}\n",
       "#h2o-table-4 .h2o-table tr:nth-child(even) {\n",
       "  /* background: #F5F5F5 */\n",
       "}\n",
       "\n",
       "</style>      \n",
       "<div id=\"h2o-table-4\" class=\"h2o-container\">\n",
       "  <table class=\"h2o-table\">\n",
       "    <caption>Scoring History: </caption>\n",
       "    <thead><tr><th></th>\n",
       "<th>timestamp</th>\n",
       "<th>duration</th>\n",
       "<th>number_of_trees</th>\n",
       "<th>training_rmse</th>\n",
       "<th>training_mae</th>\n",
       "<th>training_deviance</th></tr></thead>\n",
       "    <tbody><tr><td></td>\n",
       "<td>2025-03-04 02:46:29</td>\n",
       "<td>12 min 19.320 sec</td>\n",
       "<td>0.0</td>\n",
       "<td>0.2061617</td>\n",
       "<td>0.1444795</td>\n",
       "<td>0.0425026</td></tr>\n",
       "<tr><td></td>\n",
       "<td>2025-03-04 02:46:31</td>\n",
       "<td>12 min 21.115 sec</td>\n",
       "<td>5.0</td>\n",
       "<td>0.1670388</td>\n",
       "<td>0.1397607</td>\n",
       "<td>0.0279020</td></tr>\n",
       "<tr><td></td>\n",
       "<td>2025-03-04 02:46:32</td>\n",
       "<td>12 min 21.635 sec</td>\n",
       "<td>10.0</td>\n",
       "<td>0.1633288</td>\n",
       "<td>0.1386887</td>\n",
       "<td>0.0266763</td></tr>\n",
       "<tr><td></td>\n",
       "<td>2025-03-04 02:46:32</td>\n",
       "<td>12 min 22.158 sec</td>\n",
       "<td>15.0</td>\n",
       "<td>0.1615430</td>\n",
       "<td>0.1370562</td>\n",
       "<td>0.0260961</td></tr>\n",
       "<tr><td></td>\n",
       "<td>2025-03-04 02:46:33</td>\n",
       "<td>12 min 22.732 sec</td>\n",
       "<td>20.0</td>\n",
       "<td>0.1603685</td>\n",
       "<td>0.1354049</td>\n",
       "<td>0.0257181</td></tr>\n",
       "<tr><td></td>\n",
       "<td>2025-03-04 02:46:33</td>\n",
       "<td>12 min 23.274 sec</td>\n",
       "<td>25.0</td>\n",
       "<td>0.1592893</td>\n",
       "<td>0.1341383</td>\n",
       "<td>0.0253731</td></tr>\n",
       "<tr><td></td>\n",
       "<td>2025-03-04 02:46:34</td>\n",
       "<td>12 min 23.819 sec</td>\n",
       "<td>30.0</td>\n",
       "<td>0.1584703</td>\n",
       "<td>0.1331206</td>\n",
       "<td>0.0251128</td></tr>\n",
       "<tr><td></td>\n",
       "<td>2025-03-04 02:46:34</td>\n",
       "<td>12 min 24.384 sec</td>\n",
       "<td>35.0</td>\n",
       "<td>0.1577732</td>\n",
       "<td>0.1322333</td>\n",
       "<td>0.0248924</td></tr>\n",
       "<tr><td></td>\n",
       "<td>2025-03-04 02:46:35</td>\n",
       "<td>12 min 24.948 sec</td>\n",
       "<td>40.0</td>\n",
       "<td>0.1571284</td>\n",
       "<td>0.1313125</td>\n",
       "<td>0.0246893</td></tr>\n",
       "<tr><td></td>\n",
       "<td>2025-03-04 02:46:36</td>\n",
       "<td>12 min 25.513 sec</td>\n",
       "<td>45.0</td>\n",
       "<td>0.1566953</td>\n",
       "<td>0.1308728</td>\n",
       "<td>0.0245534</td></tr>\n",
       "<tr><td>---</td>\n",
       "<td>---</td>\n",
       "<td>---</td>\n",
       "<td>---</td>\n",
       "<td>---</td>\n",
       "<td>---</td>\n",
       "<td>---</td></tr>\n",
       "<tr><td></td>\n",
       "<td>2025-03-04 02:46:38</td>\n",
       "<td>12 min 27.855 sec</td>\n",
       "<td>65.0</td>\n",
       "<td>0.1550011</td>\n",
       "<td>0.1287358</td>\n",
       "<td>0.0240253</td></tr>\n",
       "<tr><td></td>\n",
       "<td>2025-03-04 02:46:38</td>\n",
       "<td>12 min 28.442 sec</td>\n",
       "<td>70.0</td>\n",
       "<td>0.1547247</td>\n",
       "<td>0.1284809</td>\n",
       "<td>0.0239397</td></tr>\n",
       "<tr><td></td>\n",
       "<td>2025-03-04 02:46:39</td>\n",
       "<td>12 min 29.041 sec</td>\n",
       "<td>75.0</td>\n",
       "<td>0.1543911</td>\n",
       "<td>0.1280200</td>\n",
       "<td>0.0238366</td></tr>\n",
       "<tr><td></td>\n",
       "<td>2025-03-04 02:46:40</td>\n",
       "<td>12 min 29.653 sec</td>\n",
       "<td>80.0</td>\n",
       "<td>0.1540226</td>\n",
       "<td>0.1275265</td>\n",
       "<td>0.0237230</td></tr>\n",
       "<tr><td></td>\n",
       "<td>2025-03-04 02:46:40</td>\n",
       "<td>12 min 30.265 sec</td>\n",
       "<td>85.0</td>\n",
       "<td>0.1537103</td>\n",
       "<td>0.1272663</td>\n",
       "<td>0.0236269</td></tr>\n",
       "<tr><td></td>\n",
       "<td>2025-03-04 02:46:41</td>\n",
       "<td>12 min 30.884 sec</td>\n",
       "<td>90.0</td>\n",
       "<td>0.1534788</td>\n",
       "<td>0.1269984</td>\n",
       "<td>0.0235558</td></tr>\n",
       "<tr><td></td>\n",
       "<td>2025-03-04 02:46:42</td>\n",
       "<td>12 min 31.512 sec</td>\n",
       "<td>95.0</td>\n",
       "<td>0.1532176</td>\n",
       "<td>0.1267308</td>\n",
       "<td>0.0234756</td></tr>\n",
       "<tr><td></td>\n",
       "<td>2025-03-04 02:46:42</td>\n",
       "<td>12 min 32.147 sec</td>\n",
       "<td>100.0</td>\n",
       "<td>0.1529824</td>\n",
       "<td>0.1264653</td>\n",
       "<td>0.0234036</td></tr>\n",
       "<tr><td></td>\n",
       "<td>2025-03-04 02:46:43</td>\n",
       "<td>12 min 32.848 sec</td>\n",
       "<td>105.0</td>\n",
       "<td>0.1527625</td>\n",
       "<td>0.1261625</td>\n",
       "<td>0.0233364</td></tr>\n",
       "<tr><td></td>\n",
       "<td>2025-03-04 02:46:44</td>\n",
       "<td>12 min 33.485 sec</td>\n",
       "<td>110.0</td>\n",
       "<td>0.1525394</td>\n",
       "<td>0.1258814</td>\n",
       "<td>0.0232683</td></tr></tbody>\n",
       "  </table>\n",
       "</div>\n",
       "<pre style='font-size: smaller; margin-bottom: 1em;'>[23 rows x 7 columns]</pre></div>\n",
       "<div style='margin: 1em 0 1em 0;'>\n",
       "<style>\n",
       "\n",
       "#h2o-table-5.h2o-container {\n",
       "  overflow-x: auto;\n",
       "}\n",
       "#h2o-table-5 .h2o-table {\n",
       "  /* width: 100%; */\n",
       "  margin-top: 1em;\n",
       "  margin-bottom: 1em;\n",
       "}\n",
       "#h2o-table-5 .h2o-table caption {\n",
       "  white-space: nowrap;\n",
       "  caption-side: top;\n",
       "  text-align: left;\n",
       "  /* margin-left: 1em; */\n",
       "  margin: 0;\n",
       "  font-size: larger;\n",
       "}\n",
       "#h2o-table-5 .h2o-table thead {\n",
       "  white-space: nowrap; \n",
       "  position: sticky;\n",
       "  top: 0;\n",
       "  box-shadow: 0 -1px inset;\n",
       "}\n",
       "#h2o-table-5 .h2o-table tbody {\n",
       "  overflow: auto;\n",
       "}\n",
       "#h2o-table-5 .h2o-table th,\n",
       "#h2o-table-5 .h2o-table td {\n",
       "  text-align: right;\n",
       "  /* border: 1px solid; */\n",
       "}\n",
       "#h2o-table-5 .h2o-table tr:nth-child(even) {\n",
       "  /* background: #F5F5F5 */\n",
       "}\n",
       "\n",
       "</style>      \n",
       "<div id=\"h2o-table-5\" class=\"h2o-container\">\n",
       "  <table class=\"h2o-table\">\n",
       "    <caption>Variable Importances: </caption>\n",
       "    <thead><tr><th>variable</th>\n",
       "<th>relative_importance</th>\n",
       "<th>scaled_importance</th>\n",
       "<th>percentage</th></tr></thead>\n",
       "    <tbody><tr><td>dri_score.High</td>\n",
       "<td>146.3498077</td>\n",
       "<td>1.0</td>\n",
       "<td>0.1359283</td></tr>\n",
       "<tr><td>conditioning_intensity.Unknown</td>\n",
       "<td>129.8757629</td>\n",
       "<td>0.8874338</td>\n",
       "<td>0.1206274</td></tr>\n",
       "<tr><td>comorbidity_score</td>\n",
       "<td>88.1275253</td>\n",
       "<td>0.6021704</td>\n",
       "<td>0.0818520</td></tr>\n",
       "<tr><td>year_hct</td>\n",
       "<td>78.4778671</td>\n",
       "<td>0.5362348</td>\n",
       "<td>0.0728895</td></tr>\n",
       "<tr><td>karnofsky_score</td>\n",
       "<td>67.8612442</td>\n",
       "<td>0.4636921</td>\n",
       "<td>0.0630289</td></tr>\n",
       "<tr><td>cyto_score_detail.Poor</td>\n",
       "<td>61.1437721</td>\n",
       "<td>0.4177920</td>\n",
       "<td>0.0567898</td></tr>\n",
       "<tr><td>donor_age</td>\n",
       "<td>31.4043159</td>\n",
       "<td>0.2145839</td>\n",
       "<td>0.0291680</td></tr>\n",
       "<tr><td>age_at_hct</td>\n",
       "<td>22.0313740</td>\n",
       "<td>0.1505391</td>\n",
       "<td>0.0204625</td></tr>\n",
       "<tr><td>cyto_score.Poor</td>\n",
       "<td>19.0091934</td>\n",
       "<td>0.1298887</td>\n",
       "<td>0.0176556</td></tr>\n",
       "<tr><td>dri_score.Intermediate</td>\n",
       "<td>18.7307072</td>\n",
       "<td>0.1279859</td>\n",
       "<td>0.0173969</td></tr>\n",
       "<tr><td>---</td>\n",
       "<td>---</td>\n",
       "<td>---</td>\n",
       "<td>---</td></tr>\n",
       "<tr><td>psych_disturb.Not done</td>\n",
       "<td>0.2924699</td>\n",
       "<td>0.0019984</td>\n",
       "<td>0.0002716</td></tr>\n",
       "<tr><td>tbi_status.TBI +- Other, >cGy</td>\n",
       "<td>0.2687052</td>\n",
       "<td>0.0018360</td>\n",
       "<td>0.0002496</td></tr>\n",
       "<tr><td>pulm_moderate.Unknown</td>\n",
       "<td>0.2613959</td>\n",
       "<td>0.0017861</td>\n",
       "<td>0.0002428</td></tr>\n",
       "<tr><td>race_group.Native Hawaiian or other Pacific Islander</td>\n",
       "<td>0.2186436</td>\n",
       "<td>0.0014940</td>\n",
       "<td>0.0002031</td></tr>\n",
       "<tr><td>tce_div_match.GvH non-permissive</td>\n",
       "<td>0.2114411</td>\n",
       "<td>0.0014448</td>\n",
       "<td>0.0001964</td></tr>\n",
       "<tr><td>cluster_n3.2</td>\n",
       "<td>0.1783005</td>\n",
       "<td>0.0012183</td>\n",
       "<td>0.0001656</td></tr>\n",
       "<tr><td>renal_issue.Not done</td>\n",
       "<td>0.1747048</td>\n",
       "<td>0.0011937</td>\n",
       "<td>0.0001623</td></tr>\n",
       "<tr><td>rheum_issue.No</td>\n",
       "<td>0.0887570</td>\n",
       "<td>0.0006065</td>\n",
       "<td>0.0000824</td></tr>\n",
       "<tr><td>tce_div_match.Bi-directional non-permissive</td>\n",
       "<td>0.0323626</td>\n",
       "<td>0.0002211</td>\n",
       "<td>0.0000301</td></tr>\n",
       "<tr><td>gvhd_proph.Cyclophosphamide alone</td>\n",
       "<td>0.0298103</td>\n",
       "<td>0.0002037</td>\n",
       "<td>0.0000277</td></tr></tbody>\n",
       "  </table>\n",
       "</div>\n",
       "<pre style='font-size: smaller; margin-bottom: 1em;'>[166 rows x 4 columns]</pre></div><pre style=\"font-size: smaller; margin: 1em 0 0 0;\">\n",
       "\n",
       "[tips]\n",
       "Use `model.explain()` to inspect the model.\n",
       "--\n",
       "Use `h2o.display.toggle_user_tips()` to switch on/off this section.</pre>"
      ],
      "text/plain": [
       "Model Details\n",
       "=============\n",
       "H2OXGBoostEstimator : XGBoost\n",
       "Model Key: XGBoost_grid_1_AutoML_1_20250304_20359_model_4\n",
       "\n",
       "\n",
       "Model Summary: \n",
       "    number_of_trees\n",
       "--  -----------------\n",
       "    110\n",
       "\n",
       "ModelMetricsRegression: xgboost\n",
       "** Reported on train data. **\n",
       "\n",
       "MSE: 0.023268261281341608\n",
       "RMSE: 0.15253937616675114\n",
       "MAE: 0.12588140783762491\n",
       "RMSLE: 0.09174679739123577\n",
       "Mean Residual Deviance: 0.023268261281341608\n",
       "\n",
       "ModelMetricsRegression: xgboost\n",
       "** Reported on cross-validation data. **\n",
       "\n",
       "MSE: 0.02470675053990886\n",
       "RMSE: 0.1571838113162703\n",
       "MAE: 0.12961253009391605\n",
       "RMSLE: 0.09457119253748227\n",
       "Mean Residual Deviance: 0.02470675053990886\n",
       "\n",
       "Cross-Validation Metrics Summary: \n",
       "                        mean       sd           cv_1_valid    cv_2_valid    cv_3_valid    cv_4_valid    cv_5_valid    cv_6_valid    cv_7_valid    cv_8_valid    cv_9_valid    cv_10_valid\n",
       "----------------------  ---------  -----------  ------------  ------------  ------------  ------------  ------------  ------------  ------------  ------------  ------------  -------------\n",
       "aic                     nan        0            nan           nan           nan           nan           nan           nan           nan           nan           nan           nan\n",
       "loglikelihood           nan        0            nan           nan           nan           nan           nan           nan           nan           nan           nan           nan\n",
       "mae                     0.129613   0.00131254   0.12856       0.131854      0.128476      0.130874      0.129375      0.131184      0.128032      0.129609      0.129751      0.12841\n",
       "mean_residual_deviance  0.0247068  0.000501785  0.0244389     0.0257092     0.024348      0.0249659     0.0246565     0.0253409     0.0240638     0.0244461     0.024719      0.024379\n",
       "mse                     0.0247068  0.000501785  0.0244389     0.0257092     0.024348      0.0249659     0.0246565     0.0253409     0.0240638     0.0244461     0.024719      0.024379\n",
       "r2                      0.208512   0.0163575    0.207475      0.196428      0.22043       0.214894      0.210845      0.180476      0.215545      0.189317      0.211916      0.237792\n",
       "residual_deviance       0.0247068  0.000501785  0.0244389     0.0257092     0.024348      0.0249659     0.0246565     0.0253409     0.0240638     0.0244461     0.024719      0.024379\n",
       "rmse                    0.157177   0.00159      0.156329      0.160341      0.156038      0.158006      0.157024      0.159188      0.155125      0.156353      0.157223      0.156138\n",
       "rmsle                   0.0945672  0.000911292  0.0941753     0.0963321     0.0938318     0.0949592     0.0945349     0.0957646     0.0933273     0.0943036     0.0945617     0.0938819\n",
       "\n",
       "Scoring History: \n",
       "     timestamp            duration           number_of_trees    training_rmse        training_mae         training_deviance\n",
       "---  -------------------  -----------------  -----------------  -------------------  -------------------  --------------------\n",
       "     2025-03-04 02:46:29  12 min 19.320 sec  0.0                0.20616165147247897  0.14447952942612272  0.0425026265378599\n",
       "     2025-03-04 02:46:31  12 min 21.115 sec  5.0                0.1670387999630136   0.1397606567076097   0.027901960693083674\n",
       "     2025-03-04 02:46:32  12 min 21.635 sec  10.0               0.1633287635052932   0.13868867606614474  0.026676284988168\n",
       "     2025-03-04 02:46:32  12 min 22.158 sec  15.0               0.1615429973486108   0.13705621767306217  0.026096139992373275\n",
       "     2025-03-04 02:46:33  12 min 22.732 sec  20.0               0.16036853491786293  0.13540491625908072  0.025718066991701823\n",
       "     2025-03-04 02:46:33  12 min 23.274 sec  25.0               0.15928930513669431  0.13413832359291888  0.02537308273093091\n",
       "     2025-03-04 02:46:34  12 min 23.819 sec  30.0               0.15847031011347648  0.13312055848952797  0.02511283918746141\n",
       "     2025-03-04 02:46:34  12 min 24.384 sec  35.0               0.15777316221309837  0.13223328262946948  0.02489237071472065\n",
       "     2025-03-04 02:46:35  12 min 24.948 sec  40.0               0.15712838624442485  0.13131248515582195  0.024689329763777162\n",
       "     2025-03-04 02:46:36  12 min 25.513 sec  45.0               0.1566953482100686   0.1308728248777765   0.024553432150674653\n",
       "---  ---                  ---                ---                ---                  ---                  ---\n",
       "     2025-03-04 02:46:38  12 min 27.855 sec  65.0               0.15500109500368806  0.1287358308052299   0.02402533945234233\n",
       "     2025-03-04 02:46:38  12 min 28.442 sec  70.0               0.15472469785269946  0.12848091190611874  0.023939732125609143\n",
       "     2025-03-04 02:46:39  12 min 29.041 sec  75.0               0.15439113040541624  0.12802000771863042  0.023836621147862246\n",
       "     2025-03-04 02:46:40  12 min 29.653 sec  80.0               0.15402263546458064  0.1275264642242756   0.02372297223545509\n",
       "     2025-03-04 02:46:40  12 min 30.265 sec  85.0               0.1537102801728575   0.12726628398936657  0.023626850230818352\n",
       "     2025-03-04 02:46:41  12 min 30.884 sec  90.0               0.15347882866519236  0.12699838136322797  0.02355575084843947\n",
       "     2025-03-04 02:46:42  12 min 31.512 sec  95.0               0.15321763972280825  0.12673079026518044  0.02347564512222827\n",
       "     2025-03-04 02:46:42  12 min 32.147 sec  100.0              0.15298243719894933  0.12646529546697383  0.02340362609133047\n",
       "     2025-03-04 02:46:43  12 min 32.848 sec  105.0              0.15276252873146573  0.1261624535245614   0.023336390184431892\n",
       "     2025-03-04 02:46:44  12 min 33.485 sec  110.0              0.15253937616675114  0.12588140783762491  0.023268261281341608\n",
       "[23 rows x 7 columns]\n",
       "\n",
       "\n",
       "Variable Importances: \n",
       "variable                                              relative_importance    scaled_importance       percentage\n",
       "----------------------------------------------------  ---------------------  ----------------------  ----------------------\n",
       "dri_score.High                                        146.3498077392578      1.0                     0.13592830217801763\n",
       "conditioning_intensity.Unknown                        129.87576293945312     0.8874337790101136      0.12062736687626684\n",
       "comorbidity_score                                     88.12752532958984      0.6021704209314787      0.08185200293903809\n",
       "year_hct                                              78.47786712646484      0.5362348494935086      0.07288949266033745\n",
       "karnofsky_score                                       67.86124420166016      0.463692062531194       0.06302887479328839\n",
       "cyto_score_detail.Poor                                61.14377212524414      0.4177919538792981      0.05678975095444963\n",
       "donor_age                                             31.404315948486328     0.21458392350222563     0.029168028396355145\n",
       "age_at_hct                                            22.031373977661133     0.15053913850650927     0.02046252950853124\n",
       "cyto_score.Poor                                       19.009193420410156     0.12988874884125323     0.017655557102018507\n",
       "dri_score.Intermediate                                18.7307071685791       0.12798586795515587     0.017396901733924292\n",
       "---                                                   ---                    ---                     ---\n",
       "psych_disturb.Not done                                0.29246994853019714    0.0019984306986673486   0.00027164329189028225\n",
       "tbi_status.TBI +- Other, >cGy                         0.2687051594257355     0.001836047232152641    0.0002495707829851571\n",
       "pulm_moderate.Unknown                                 0.2613958716392517     0.0017861032800600884   0.00024278198637315616\n",
       "race_group.Native Hawaiian or other Pacific Islander  0.21864363551139832    0.0014939796566111098   0.00020307411821164593\n",
       "tce_div_match.GvH non-permissive                      0.21144109964370728    0.0014447651343718778   0.00019638447176116482\n",
       "cluster_n3.2                                          0.17830052971839905    0.0012183174851590226   0.00016560382727145813\n",
       "renal_issue.Not done                                  0.17470479011535645    0.0011937479988126593   0.00016226413870701098\n",
       "rheum_issue.No                                        0.0887570008635521     0.0006064715918293847   8.243665379656797e-05\n",
       "tce_div_match.Bi-directional non-permissive           0.03236263990402222    0.00022113209715779526  3.0058110523723548e-05\n",
       "gvhd_proph.Cyclophosphamide alone                     0.0298103466629982     0.0002036924210799744   2.768756496393077e-05\n",
       "[166 rows x 4 columns]\n",
       "\n",
       "\n",
       "[tips]\n",
       "Use `model.explain()` to inspect the model.\n",
       "--\n",
       "Use `h2o.display.toggle_user_tips()` to switch on/off this section."
      ]
     },
     "execution_count": 30,
     "metadata": {},
     "output_type": "execute_result"
    }
   ],
   "source": [
    "# AutoML training\n",
    "h2o_aml = H2OAutoML(\n",
    "    max_models=5000,\n",
    "    exclude_algos=['GLM'],\n",
    "    seed=42,\n",
    "    nfolds=10,\n",
    "    max_runtime_secs=4000,\n",
    ")\n",
    "\n",
    "h2o_aml.train(\n",
    "    x=predictors,\n",
    "    y='kmf',\n",
    "    training_frame=train_h2o,\n",
    "    # weights_column = \"wgt\"\n",
    ")"
   ]
  },
  {
   "cell_type": "code",
   "execution_count": 31,
   "id": "1c4b8a22",
   "metadata": {
    "execution": {
     "iopub.execute_input": "2025-03-04T03:10:41.439732Z",
     "iopub.status.busy": "2025-03-04T03:10:41.439133Z",
     "iopub.status.idle": "2025-03-04T03:10:50.014213Z",
     "shell.execute_reply": "2025-03-04T03:10:50.012717Z"
    },
    "papermill": {
     "duration": 8.598308,
     "end_time": "2025-03-04T03:10:50.016106",
     "exception": false,
     "start_time": "2025-03-04T03:10:41.417798",
     "status": "completed"
    },
    "tags": []
   },
   "outputs": [
    {
     "name": "stdout",
     "output_type": "stream",
     "text": [
      "xgboost prediction progress: |███████████████████████████████████████████████████| (done) 100%\n",
      "Export File progress: |██████████████████████████████████████████████████████████| (done) 100%\n"
     ]
    },
    {
     "data": {
      "text/plain": [
       "[1.0071579217910767, 1.3010954856872559, 0.8768056333065033]"
      ]
     },
     "execution_count": 31,
     "metadata": {},
     "output_type": "execute_result"
    }
   ],
   "source": [
    "h2o_aml_predictions = sum_predictions(\n",
    "    [i[0] for i in h2o_aml.leader.predict(test_h2o).as_data_frame(use_multi_thread=True).values],\n",
    "    stacks\n",
    ")\n",
    "h2o_aml_predictions[:3]"
   ]
  },
  {
   "cell_type": "code",
   "execution_count": 32,
   "id": "705d39b7",
   "metadata": {
    "execution": {
     "iopub.execute_input": "2025-03-04T03:10:50.041352Z",
     "iopub.status.busy": "2025-03-04T03:10:50.040985Z",
     "iopub.status.idle": "2025-03-04T03:10:50.044462Z",
     "shell.execute_reply": "2025-03-04T03:10:50.043683Z"
    },
    "papermill": {
     "duration": 0.018074,
     "end_time": "2025-03-04T03:10:50.046145",
     "exception": false,
     "start_time": "2025-03-04T03:10:50.028071",
     "status": "completed"
    },
    "tags": []
   },
   "outputs": [],
   "source": [
    "# test_df = test_raw.iloc[:len(test_raw)//stacks]\n",
    "\n",
    "# test_sol = test_df[['ID', 'efs', 'efs_time', 'race_group']]\n",
    "# test_sub = test_df[['ID']]\n",
    "# test_sub['prediction'] = h2o_aml_predictions\n",
    "\n",
    "# score(test_sol.copy(), test_sub.copy(), 'ID')"
   ]
  },
  {
   "cell_type": "code",
   "execution_count": 33,
   "id": "ba6800c3",
   "metadata": {
    "execution": {
     "iopub.execute_input": "2025-03-04T03:10:50.073991Z",
     "iopub.status.busy": "2025-03-04T03:10:50.073514Z",
     "iopub.status.idle": "2025-03-04T03:10:50.093061Z",
     "shell.execute_reply": "2025-03-04T03:10:50.091318Z"
    },
    "papermill": {
     "duration": 0.036498,
     "end_time": "2025-03-04T03:10:50.094874",
     "exception": false,
     "start_time": "2025-03-04T03:10:50.058376",
     "status": "completed"
    },
    "tags": []
   },
   "outputs": [
    {
     "data": {
      "text/plain": [
       "0    1.007158\n",
       "1    1.301095\n",
       "2    0.876806\n",
       "Name: prediction, dtype: float64"
      ]
     },
     "metadata": {},
     "output_type": "display_data"
    }
   ],
   "source": [
    "sub_df['prediction'] = h2o_aml_predictions\n",
    "display(sub_df['prediction'])\n",
    "sub_df.to_csv(\"submission.csv\", index=False)"
   ]
  },
  {
   "cell_type": "code",
   "execution_count": null,
   "id": "5b6eb469",
   "metadata": {
    "papermill": {
     "duration": 0.011987,
     "end_time": "2025-03-04T03:10:50.119111",
     "exception": false,
     "start_time": "2025-03-04T03:10:50.107124",
     "status": "completed"
    },
    "tags": []
   },
   "outputs": [],
   "source": []
  }
 ],
 "metadata": {
  "kaggle": {
   "accelerator": "none",
   "dataSources": [
    {
     "databundleVersionId": 10381525,
     "sourceId": 70942,
     "sourceType": "competition"
    },
    {
     "sourceId": 211322530,
     "sourceType": "kernelVersion"
    }
   ],
   "dockerImageVersionId": 30918,
   "isGpuEnabled": false,
   "isInternetEnabled": false,
   "language": "python",
   "sourceType": "notebook"
  },
  "kernelspec": {
   "display_name": "Python 3",
   "language": "python",
   "name": "python3"
  },
  "language_info": {
   "codemirror_mode": {
    "name": "ipython",
    "version": 3
   },
   "file_extension": ".py",
   "mimetype": "text/x-python",
   "name": "python",
   "nbconvert_exporter": "python",
   "pygments_lexer": "ipython3",
   "version": "3.10.12"
  },
  "papermill": {
   "default_parameters": {},
   "duration": 4127.036995,
   "end_time": "2025-03-04T03:10:52.263160",
   "environment_variables": {},
   "exception": null,
   "input_path": "__notebook__.ipynb",
   "output_path": "__notebook__.ipynb",
   "parameters": {},
   "start_time": "2025-03-04T02:02:05.226165",
   "version": "2.6.0"
  }
 },
 "nbformat": 4,
 "nbformat_minor": 5
}
